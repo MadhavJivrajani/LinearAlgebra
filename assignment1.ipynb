{
 "cells": [
  {
   "cell_type": "code",
   "execution_count": 1,
   "metadata": {},
   "outputs": [],
   "source": [
    "import time\n",
    "import random\n",
    "import matplotlib.pyplot as plt\n",
    "%matplotlib inline"
   ]
  },
  {
   "cell_type": "code",
   "execution_count": 2,
   "metadata": {},
   "outputs": [],
   "source": [
    "class LinearSystem:\n",
    "    def __init__(self):\n",
    "        self.solutions = []\n",
    "        \n",
    "    def get_det(self, A):\n",
    "        if not self.is_square(A):\n",
    "            print(\"Determinant of non-square matrices not possible\")\n",
    "        else:\n",
    "            if len(A)==2:\n",
    "                return A[0][0]*A[1][1]-A[0][1]*A[1][0]\n",
    "            det = 0\n",
    "            for c in range(len(A)):\n",
    "                det += ((-1)**c)*A[0][c]*self.get_det(self.get_minor_matrix(A,0,c))\n",
    "                \n",
    "            return det\n",
    "\n",
    "    def get_minor_matrix(self, A, r, c):\n",
    "        return [row[:c] + row[c+1:] for row in (A[:r] + A[r+1:])]\n",
    "    \n",
    "    def get_zero_matrix(self, r, c):\n",
    "        return [[0 for _ in range(c)] for _ in range(r)]\n",
    "    \n",
    "    def get_dim(self, M):\n",
    "        return (len(M), len(M[0]))\n",
    "                    \n",
    "    def copy_matrix(self, M):\n",
    "        dim = self.get_dim(M)\n",
    "        rows = dim[0]\n",
    "        cols = dim[1]\n",
    "        copy = self.get_zero_matrix(rows, cols)\n",
    "        \n",
    "        for i in range(rows):\n",
    "            for j in range(cols):\n",
    "                copy[i][j] = M[i][j]\n",
    "                \n",
    "        return copy\n",
    "    \n",
    "    def is_square(self, M):\n",
    "        dim = self.get_dim(M)\n",
    "        return dim[0]==dim[1]\n",
    "    \n",
    "    def is_singular(self, M):\n",
    "        if not self.is_square(M):\n",
    "            return False\n",
    "            \n",
    "        if(self.get_det(M)==0):\n",
    "            return True\n",
    "        else:\n",
    "            return False\n",
    "    \n",
    "    def get_transpose(self, M):\n",
    "        \n",
    "        if not isinstance(M[0], list):\n",
    "            M = [M]\n",
    "            \n",
    "        dim = self.get_dim(M)\n",
    "        rows = dim[0]\n",
    "        cols = dim[1]\n",
    "        transpose = []\n",
    "        for k in range(cols):\n",
    "            col = [M[r][k] for r in range(rows)]\n",
    "            transpose.append(col)\n",
    "            \n",
    "        return transpose\n",
    "    \n",
    "    def augment(self, M, b):\n",
    "        augment = self.copy_matrix(M)\n",
    "        k = 0\n",
    "        for i in augment:\n",
    "            i.append(b[k][0])\n",
    "            k+=1\n",
    "        \n",
    "        return augment\n",
    "    \n",
    "    def gaussian_elimination(self, augmented_matrix):\n",
    "        rows, cols = self.get_dim(augmented_matrix)\n",
    "        for i in range(rows):\n",
    "            pivotrow = i\n",
    "            for j in range(i+1, rows):\n",
    "                if abs(augmented_matrix[j][i]) > abs(augmented_matrix[pivotrow][i]):\n",
    "                    pivotrow = j\n",
    "            for k in range(i, cols):\n",
    "                temp = augmented_matrix[i][k]\n",
    "                augmented_matrix[i][k] = augmented_matrix[pivotrow][k]\n",
    "                augmented_matrix[pivotrow][k] = temp\n",
    "            for j in range(i+1, rows):\n",
    "                temp = augmented_matrix[j][i]/augmented_matrix[i][i]\n",
    "                for k in range(i, cols):\n",
    "                    augmented_matrix[j][k] = float(\"%.2f\" % (augmented_matrix[j][k] - augmented_matrix[i][k] * temp))\n",
    "        \n",
    "        return augmented_matrix\n",
    "    \n",
    "    def print_gaussian(self, augmented_matrix):     \n",
    "        augmented_matrix = self.gaussian_elimination(augmented_matrix)\n",
    "        for row in augmented_matrix:\n",
    "            row = [str(float(\"%.2f\"%i)) for i in row]\n",
    "            print(\"\\t\".join(row))\n",
    "    \n",
    "    def get_nature_of_solutions(self, augmented_matrix):\n",
    "        if(augmented_matrix[-1][-2]==0 and augmented_matrix[-1][-1]==0):\n",
    "            print(\"Consistent, singular and infinite solutions\")\n",
    "        elif(augmented_matrix[-1][-2]!=0 and augmented_matrix[-1][-1]==0):\n",
    "            print(\"Inconsistent, singular and no solution\")\n",
    "        else:\n",
    "            print(\"Consistent, non-singular, unique solution\")\n",
    "            \n",
    "    def solution_type_code(self, augmented_matrix):\n",
    "        code = -1\n",
    "        if(augmented_matrix[-1][-2]==0 and augmented_matrix[-1][-1]==0):\n",
    "            code = 0\n",
    "        elif(augmented_matrix[-1][-2]!=0 and augmented_matrix[-1][-1]==0):\n",
    "            code = 1\n",
    "        else:\n",
    "            code = 2\n",
    "        \n",
    "        return code\n",
    "    \n",
    "    def get_upper_triangular(self, A):\n",
    "        rows, cols = self.get_dim(A)\n",
    "        C = self.copy_matrix(A)\n",
    "        \n",
    "        for i in range(rows):\n",
    "            pivotrow = i\n",
    "            for j in range(i+1, rows):\n",
    "                if abs(C[j][i]) > abs(C[pivotrow][i]):\n",
    "                    pivotrow = j\n",
    "            for k in range(i, cols):\n",
    "                temp = C[i][k]\n",
    "                C[i][k] = C[pivotrow][k]\n",
    "                C[pivotrow][k] = temp\n",
    "            for j in range(i+1, rows):\n",
    "                temp = C[j][i]/C[i][i]\n",
    "                for k in range(i, cols):\n",
    "                    C[j][k] = C[j][k] - C[i][k] * temp\n",
    "        \n",
    "        return C\n",
    "    \n",
    "    def get_rank(self, A):\n",
    "        upper = self.get_upper_triangular(A)\n",
    "        rows, cols = self.get_dim(A)\n",
    "        \n",
    "        rank = cols\n",
    "        for row in upper:\n",
    "            if(len(set(row))==1 and list(set(row))[0]==0):\n",
    "                rank -= 1\n",
    "        return rank\n",
    "    \n",
    "    def solve_equation(self, lhs, rhs):\n",
    "        lhs = lhs[::-1]\n",
    "        if(len(lhs)==1):\n",
    "            return rhs/lhs[0]\n",
    "        else:\n",
    "            target_flag = False\n",
    "            aggregate = 0\n",
    "            k = 0\n",
    "            for i in lhs[1:]:\n",
    "                aggregate += self.solutions[::-1][k]*i\n",
    "                k+=1\n",
    "            return (rhs-aggregate)/lhs[0]\n",
    "                \n",
    "            \n",
    "    def back_substitution(self, U):\n",
    "        sol_nature = self.solution_type_code(U)\n",
    "        if sol_nature==2:\n",
    "            i = 0\n",
    "            for row in U[::-1]:\n",
    "                rhs = row[-1]\n",
    "                self.solutions.append(self.solve_equation(row[::-1][1:2+i], rhs))\n",
    "                i+=1\n",
    "            temp = self.solutions\n",
    "            self.solutions = []\n",
    "            return temp\n",
    "\n",
    "    def LU_decompose(self, A):\n",
    "        if(self.is_square(A)):\n",
    "            rows, col = self.get_dim(A)\n",
    "            temp = self.copy_matrix(A)\n",
    "            L = self.get_zero_matrix(rows, col)\n",
    "            U = self.get_zero_matrix(rows, col)\n",
    "\n",
    "            for i in range(len(L)):\n",
    "                L[i][i] = 1\n",
    "\n",
    "            for k in range(rows):\n",
    "                U[k][k] = temp[k][k]\n",
    "\n",
    "                for i in range(k+1, rows):\n",
    "                    L[i][k] = temp[i][k]/temp[k][k]\n",
    "                    U[k][i] = temp[k][i]\n",
    "\n",
    "                for i in range(k+1, rows):\n",
    "                    for j in range(k+1, rows):\n",
    "                        temp[i][j] = temp[i][j] - L[i][k]*U[k][j]\n",
    "\n",
    "            return L, U\n",
    "        \n",
    "        else:\n",
    "            return None, None        \n",
    "    \n",
    "    def forward_substitue(self, U):\n",
    "        y = []\n",
    "        for i in range(len(U)):\n",
    "            rhs = U[i][-1]\n",
    "            if i==0:\n",
    "                y.append([rhs/U[i][0]])\n",
    "            else:\n",
    "                k = 0\n",
    "                aggregate = 0\n",
    "                for j in U[i][:i]:\n",
    "                    aggregate += U[i][k]*y[k][0]\n",
    "                    k += 1\n",
    "                y.append([(rhs - aggregate)/U[i][i]])\n",
    "                \n",
    "        return y\n",
    "\n",
    "    def LU_solve(self, A, b):\n",
    "        L, U = self.LU_decompose(A)\n",
    "        \n",
    "        augment_L = self.augment(L, b)\n",
    "        y = self.forward_substitue(augment_L)\n",
    "        augment_U = self.augment(U, y)\n",
    "        \n",
    "        return self.back_substitution(augment_U)\n",
    "    \n",
    "    def compare_algorithms(self, A, n):\n",
    "        rows, col = self.get_dim(A)\n",
    "        time_data_gauss = {}\n",
    "        time_data_lu = {}\n",
    "        \n",
    "        for i in range(1,n):\n",
    "            time_g = 0\n",
    "            time_lu = 0\n",
    "            \n",
    "            for j in range(i):\n",
    "                b = [[random.randint(3, 100)] for _ in range(rows)]\n",
    "                augment = self.augment(A, b)\n",
    "                start_g = time.time()\n",
    "                aug_gauss = self.gaussian_elimination(augment)\n",
    "                x = self.back_substitution(aug_gauss)\n",
    "                end_g = time.time()\n",
    "                \n",
    "                start_lu = time.time()\n",
    "                x = self.LU_solve(A, b)\n",
    "                end_lu = time.time()\n",
    "                \n",
    "                time_g += (end_g - start_g)\n",
    "                time_lu += (end_lu - start_lu)\n",
    "                \n",
    "            time_data_gauss[i] = time_g\n",
    "            time_data_lu[i] = time_lu\n",
    "        \n",
    "        plt.plot(list(time_data_gauss.keys()), list(time_data_gauss.values()), label=\"Gaussian Elimination\")\n",
    "        plt.plot(list(time_data_lu.keys()), list(time_data_lu.values()), color=\"red\", label=\"LU decomposition\")\n",
    "        plt.xlabel(\"No. of randomly generated b vectors\")\n",
    "        plt.ylabel(\"Time in seconds\")\n",
    "        plt.legend()\n",
    "        plt.title(\"Gaussian Elimination vs LU Decomposition performance comparison\")\n",
    "        plt.show()"
   ]
  },
  {
   "cell_type": "code",
   "execution_count": 3,
   "metadata": {},
   "outputs": [],
   "source": [
    "A = [[2,1,1],[4,-6,0],[-2,7,2]]\n",
    "b = [[5],[-2],[9]]"
   ]
  },
  {
   "cell_type": "code",
   "execution_count": 4,
   "metadata": {},
   "outputs": [],
   "source": [
    "m = LinearSystem()"
   ]
  },
  {
   "cell_type": "code",
   "execution_count": 5,
   "metadata": {},
   "outputs": [],
   "source": [
    "aug = m.augment(A, b)\n",
    "post_elimination = m.gaussian_elimination(aug)"
   ]
  },
  {
   "cell_type": "code",
   "execution_count": 6,
   "metadata": {},
   "outputs": [
    {
     "name": "stdout",
     "output_type": "stream",
     "text": [
      "Consistent, non-singular, unique solution\n"
     ]
    }
   ],
   "source": [
    "m.get_nature_of_solutions(post_elimination)"
   ]
  },
  {
   "cell_type": "code",
   "execution_count": 7,
   "metadata": {},
   "outputs": [
    {
     "data": {
      "text/plain": [
       "[[4, -6, 0], [0.0, 4.0, 1.0], [0.0, 0.0, 1.0]]"
      ]
     },
     "execution_count": 7,
     "metadata": {},
     "output_type": "execute_result"
    }
   ],
   "source": [
    "m.get_upper_triangular(A)"
   ]
  },
  {
   "cell_type": "code",
   "execution_count": 8,
   "metadata": {
    "scrolled": true
   },
   "outputs": [
    {
     "data": {
      "text/plain": [
       "[2.0, 1.0, 1.0]"
      ]
     },
     "execution_count": 8,
     "metadata": {},
     "output_type": "execute_result"
    }
   ],
   "source": [
    "m.back_substitution(post_elimination)"
   ]
  },
  {
   "cell_type": "code",
   "execution_count": 9,
   "metadata": {},
   "outputs": [],
   "source": [
    "L, U = m.LU_decompose(A)"
   ]
  },
  {
   "cell_type": "code",
   "execution_count": 10,
   "metadata": {},
   "outputs": [
    {
     "data": {
      "text/plain": [
       "[[1, 0, 0], [2.0, 1, 0], [-1.0, -1.0, 1]]"
      ]
     },
     "execution_count": 10,
     "metadata": {},
     "output_type": "execute_result"
    }
   ],
   "source": [
    "L"
   ]
  },
  {
   "cell_type": "code",
   "execution_count": 11,
   "metadata": {},
   "outputs": [
    {
     "data": {
      "text/plain": [
       "[[2, 1, 1], [0, -8.0, -2.0], [0, 0, 1.0]]"
      ]
     },
     "execution_count": 11,
     "metadata": {},
     "output_type": "execute_result"
    }
   ],
   "source": [
    "U"
   ]
  },
  {
   "cell_type": "code",
   "execution_count": 12,
   "metadata": {},
   "outputs": [],
   "source": [
    "l_augment = m.augment(L, b)"
   ]
  },
  {
   "cell_type": "code",
   "execution_count": 13,
   "metadata": {},
   "outputs": [],
   "source": [
    "y = m.forward_substitue(l_augment)"
   ]
  },
  {
   "cell_type": "code",
   "execution_count": 14,
   "metadata": {},
   "outputs": [],
   "source": [
    "u_augment = m.augment(U, y)"
   ]
  },
  {
   "cell_type": "code",
   "execution_count": 15,
   "metadata": {},
   "outputs": [
    {
     "data": {
      "text/plain": [
       "[2.0, 1.0, 1.0]"
      ]
     },
     "execution_count": 15,
     "metadata": {},
     "output_type": "execute_result"
    }
   ],
   "source": [
    "m.back_substitution(u_augment)"
   ]
  },
  {
   "cell_type": "code",
   "execution_count": 16,
   "metadata": {},
   "outputs": [
    {
     "data": {
      "text/plain": [
       "[2.0, 1.0, 1.0]"
      ]
     },
     "execution_count": 16,
     "metadata": {},
     "output_type": "execute_result"
    }
   ],
   "source": [
    "m.LU_solve(A, b)"
   ]
  },
  {
   "cell_type": "markdown",
   "metadata": {},
   "source": [
    "### For a matrix of small dimension, Gaussian Elimination turns out to be faster than LU Decomposition"
   ]
  },
  {
   "cell_type": "code",
   "execution_count": 17,
   "metadata": {},
   "outputs": [
    {
     "data": {
      "image/png": "[encoded data removed]",
      "text/plain": [
       "<Figure size 432x288 with 1 Axes>"
      ]
     },
     "metadata": {
      "needs_background": "light"
     },
     "output_type": "display_data"
    }
   ],
   "source": [
    "#Running for a 3x3 matrix A\n",
    "m.compare_algorithms(A, 50)"
   ]
  },
  {
   "cell_type": "code",
   "execution_count": 18,
   "metadata": {},
   "outputs": [],
   "source": [
    "A = [[random.randint(3, 100) for _ in range(100)] for _ in range(100)]"
   ]
  },
  {
   "cell_type": "markdown",
   "metadata": {},
   "source": [
    "### For a matrix of large dimension, LU Decomposition turns out to be faster than Gaussian Elimination"
   ]
  },
  {
   "cell_type": "code",
   "execution_count": 19,
   "metadata": {},
   "outputs": [
    {
     "data": {
      "image/png": "[encoded data removed]",
      "text/plain": [
       "<Figure size 432x288 with 1 Axes>"
      ]
     },
     "metadata": {
      "needs_background": "light"
     },
     "output_type": "display_data"
    }
   ],
   "source": [
    "#running for a 100x100 matrix A\n",
    "m.compare_algorithms(A, 50)"
   ]
  }
 ],
 "metadata": {
  "kernelspec": {
   "display_name": "Python 3",
   "language": "python",
   "name": "python3"
  },
  "language_info": {
   "codemirror_mode": {
    "name": "ipython",
    "version": 3
   },
   "file_extension": ".py",
   "mimetype": "text/x-python",
   "name": "python",
   "nbconvert_exporter": "python",
   "pygments_lexer": "ipython3",
   "version": "3.6.9"
  }
 },
 "nbformat": 4,
 "nbformat_minor": 2
}
